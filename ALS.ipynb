{
 "cells": [
  {
   "cell_type": "code",
   "execution_count": 10,
   "id": "a265668e",
   "metadata": {},
   "outputs": [],
   "source": [
    "import numpy as np\n",
    "from scipy import linalg as lg"
   ]
  },
  {
   "cell_type": "markdown",
   "id": "3b7ff68c",
   "metadata": {},
   "source": [
    "# ALS"
   ]
  },
  {
   "cell_type": "code",
   "execution_count": 11,
   "id": "e0c873ec",
   "metadata": {},
   "outputs": [],
   "source": [
    "def ALS(tensor, dims, rank=None, tol=1e-14, max_iter=100):\n",
    "    N = len(dims)\n",
    "\n",
    "    if rank is None or rank > min(dims):\n",
    "        rank = min(dims)\n",
    "\n",
    "    factors = [np.random.rand(dims[n], rank) for n in range(N)]\n",
    "\n",
    "    eps_cur = tol + 1.0\n",
    "    it = 0\n",
    "\n",
    "    while it < max_iter and eps_cur > tol:\n",
    "        eps_cur = 0.0\n",
    "\n",
    "        for mode in range(N):\n",
    "            Q = np.ones((1, rank))\n",
    "            for m in range(N):\n",
    "                if m == mode:\n",
    "                    continue\n",
    "                Q = lg.khatri_rao(Q, factors[m])\n",
    "\n",
    "            axes = [i for i in range(N) if i != mode] + [mode]\n",
    "            Tn = np.transpose(tensor, axes).reshape(-1, dims[mode])\n",
    "\n",
    "            A_old = factors[mode]\n",
    "\n",
    "            X = np.linalg.lstsq(Q, Tn, rcond=None)[0].T\n",
    "            factors[mode] = X\n",
    "\n",
    "            diff = np.linalg.norm(A_old - X)\n",
    "            normA = np.linalg.norm(A_old)\n",
    "            eps_cur = max(eps_cur, diff / (normA if normA else 1.0))\n",
    "\n",
    "        it += 1\n",
    "\n",
    "    return factors, it\n"
   ]
  },
  {
   "cell_type": "markdown",
   "id": "036639e4",
   "metadata": {},
   "source": [
    "# Testing"
   ]
  },
  {
   "cell_type": "code",
   "execution_count": 12,
   "id": "f0352d0f",
   "metadata": {},
   "outputs": [
    {
     "name": "stdout",
     "output_type": "stream",
     "text": [
      "ошибка: 4.226e-16\n"
     ]
    }
   ],
   "source": [
    "\n",
    "sizes = np.array((10, 10, 20))\n",
    "T = np.zeros(sizes)\n",
    "for i in range(sizes[0]):\n",
    "    for j in range(sizes[1]):\n",
    "        for k in range(sizes[2]):\n",
    "            T[i, j, k] = i + j + k\n",
    "\n",
    "\n",
    "rank = 10\n",
    "factors, it = ALS(T, sizes, rank=rank, tol=1e-14, max_iter=100)\n",
    "\n",
    "\n",
    "len_dim = len(sizes)\n",
    "sweep_l = np.ones((1, rank))\n",
    "for mode in range(len_dim):\n",
    "    sweep_l = lg.khatri_rao(sweep_l, factors[mode])\n",
    "\n",
    "\n",
    "recon_vec = np.sum(sweep_l, axis=1) \n",
    "orig_vec  = T.reshape(-1)\n",
    "\n",
    "rel_err = np.linalg.norm(recon_vec - orig_vec) / np.linalg.norm(orig_vec)\n",
    "print(f\"ошибка: {rel_err:.3e}\")"
   ]
  }
 ],
 "metadata": {
  "kernelspec": {
   "display_name": "Python 3",
   "language": "python",
   "name": "python3"
  },
  "language_info": {
   "codemirror_mode": {
    "name": "ipython",
    "version": 3
   },
   "file_extension": ".py",
   "mimetype": "text/x-python",
   "name": "python",
   "nbconvert_exporter": "python",
   "pygments_lexer": "ipython3",
   "version": "3.10.12"
  }
 },
 "nbformat": 4,
 "nbformat_minor": 5
}
