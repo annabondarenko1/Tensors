{
 "cells": [
  {
   "cell_type": "markdown",
   "id": "4e1068f3",
   "metadata": {},
   "source": [
    "# Tensor‑Train SVD (TT‑SVD)"
   ]
  },
  {
   "cell_type": "code",
   "execution_count": 21,
   "id": "919bd30b",
   "metadata": {},
   "outputs": [],
   "source": [
    "import numpy as np"
   ]
  },
  {
   "cell_type": "code",
   "execution_count": 22,
   "id": "525bd18a",
   "metadata": {},
   "outputs": [],
   "source": [
    "\n",
    "def choose_rank(s, eps):\n",
    "    for k in range(1, len(s)):\n",
    "        if np.sum(s[k:] ** 2) <= eps:\n",
    "            return k\n",
    "    return len(s)\n"
   ]
  },
  {
   "cell_type": "code",
   "execution_count": 23,
   "id": "4c33df53",
   "metadata": {},
   "outputs": [],
   "source": [
    "\n",
    "def tt_svd(tensor, eps=1e-8):\n",
    "    dims = tensor.shape\n",
    "    d = len(dims)\n",
    "    factors = []\n",
    "    core = tensor.reshape(dims[0], -1)\n",
    "\n",
    "    for i in range(d - 1):\n",
    "        U, s, Vh = np.linalg.svd(core, full_matrices=False)\n",
    "        k = choose_rank(s, eps)\n",
    "        U_k, s_k, Vh_k = U[:, :k], s[:k], Vh[:k, :]\n",
    "\n",
    "        if i == 0:\n",
    "            factors.append(U_k)\n",
    "        else:\n",
    "            r_prev = factors[-1].shape[-1]\n",
    "            factors.append(U_k.reshape(r_prev, dims[i], k)) \n",
    "\n",
    "        core = s_k[:, None] * Vh_k \n",
    "        if i < d - 2:\n",
    "            core = core.reshape(k * dims[i + 1], -1)\n",
    "        else:\n",
    "            factors.append(core.reshape(k, dims[i + 1]))\n",
    "\n",
    "    return factors\n"
   ]
  },
  {
   "cell_type": "code",
   "execution_count": 24,
   "id": "df183032",
   "metadata": {},
   "outputs": [],
   "source": [
    "\n",
    "def tt_to_tensor(factors):\n",
    "    res = factors[0]  \n",
    "    for G in factors[1:-1]:\n",
    "        res = np.tensordot(res, G, axes=([-1], [0]))\n",
    "    res = np.tensordot(res, factors[-1], axes=([-1], [0])) \n",
    "    return res\n"
   ]
  },
  {
   "cell_type": "code",
   "execution_count": null,
   "id": "ada63434",
   "metadata": {},
   "outputs": [
    {
     "name": "stdout",
     "output_type": "stream",
     "text": [
      "Относительная ошибка: 2.3589929569558555e-15\n",
      "G1 shape: (10, 10)\n",
      "G2 shape: (10, 15, 20)\n",
      "G3 shape: (20, 20)\n"
     ]
    }
   ],
   "source": [
    "\n",
    "sizes = (10, 15, 20)\n",
    "T = np.random.randn(*sizes)\n",
    "\n",
    "factors = tt_svd(T, eps=1e-10)\n",
    "T_rec = tt_to_tensor(factors)\n",
    "\n",
    "print(\"ошибка:\", np.linalg.norm(T_rec - T) / np.linalg.norm(T))\n",
    "for i, f in enumerate(factors):\n",
    "    print(f\"G{i+1} shape: {f.shape}\")\n"
   ]
  }
 ],
 "metadata": {
  "kernelspec": {
   "display_name": "Python 3",
   "language": "python",
   "name": "python3"
  },
  "language_info": {
   "codemirror_mode": {
    "name": "ipython",
    "version": 3
   },
   "file_extension": ".py",
   "mimetype": "text/x-python",
   "name": "python",
   "nbconvert_exporter": "python",
   "pygments_lexer": "ipython3",
   "version": "3.10.12"
  }
 },
 "nbformat": 4,
 "nbformat_minor": 5
}
