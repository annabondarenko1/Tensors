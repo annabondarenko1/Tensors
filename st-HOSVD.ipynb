{
 "cells": [
  {
   "cell_type": "code",
   "execution_count": null,
   "id": "a265668e",
   "metadata": {},
   "outputs": [],
   "source": [
    "import numpy as np"
   ]
  },
  {
   "cell_type": "markdown",
   "id": "3b7ff68c",
   "metadata": {},
   "source": [
    "# st-HOSVD"
   ]
  },
  {
   "cell_type": "code",
   "execution_count": null,
   "id": "82cb6c70",
   "metadata": {},
   "outputs": [],
   "source": [
    "def choose_rank(s, energy_tol):\n",
    "    tail_energy = np.cumsum(s[::-1]**2)[::-1]\n",
    "    k = np.searchsorted(tail_energy < energy_tol, True)\n",
    "    return max(1, k), tail_energy[k] if k < len(tail_energy) else 0.0\n"
   ]
  },
  {
   "cell_type": "code",
   "execution_count": null,
   "id": "26086976",
   "metadata": {},
   "outputs": [],
   "source": [
    "def st_hosvd_seq(tensor, rel_tol=1e-8, ranks=None):\n",
    "\n",
    "    core = tensor.copy()\n",
    "    abs_tol = (rel_tol * np.linalg.norm(core))**2\n",
    "    factors, dims = [], list(core.shape)\n",
    "\n",
    "    for mode in range(core.ndim):\n",
    "        unfolded = np.reshape(np.moveaxis(core, mode, 0), (dims[mode], -1))\n",
    "        U, s, Vh = np.linalg.svd(unfolded, full_matrices=False)\n",
    "\n",
    "        if ranks is None:\n",
    "            k, lost = choose_rank(s, abs_tol / (core.ndim - mode))\n",
    "            abs_tol -= lost\n",
    "        else:\n",
    "            k = ranks[mode]\n",
    "\n",
    "        factors.append(U[:, :k])\n",
    "        core = (s[:k, None] * Vh[:k]).reshape([k] + dims[:mode] + dims[mode+1:])\n",
    "        dims[mode] = k\n",
    "        core = np.moveaxis(core, 0, mode)\n",
    "\n",
    "    return core, factors, dims"
   ]
  },
  {
   "cell_type": "code",
   "execution_count": null,
   "id": "a8b2b1ae",
   "metadata": {},
   "outputs": [
    {
     "name": "stdout",
     "output_type": "stream",
     "text": [
      "Ranks: [10, 11, 12, 12]\n",
      "Relative reconstruction error: 3.561131561135256e-11\n"
     ]
    }
   ],
   "source": [
    "\n",
    "sizes = (10, 20, 30, 40)\n",
    "i, j, k, l = np.ogrid[:sizes[0], :sizes[1], :sizes[2], :sizes[3]]\n",
    "T = 1.0 / (i + j + k + l + 1)\n",
    "\n",
    "# %%\n",
    "core, factors, ranks = st_hosvd_seq(T, rel_tol=1e-10)\n",
    "print(\"Ranks:\", ranks)\n",
    "\n",
    "# %%\n",
    "def tucker_to_tensor(core, factors):\n",
    "    tensor = core\n",
    "    for mode, U in enumerate(factors):\n",
    "        tensor = np.tensordot(U, tensor, axes=(1, mode)) \n",
    "        tensor = np.moveaxis(tensor, 0, mode)           \n",
    "    return tensor\n",
    "\n",
    "approx = tucker_to_tensor(core, factors)\n",
    "rel_err = np.linalg.norm(approx - T) / np.linalg.norm(T)\n",
    "print(\"Relative reconstruction error:\", rel_err)\n"
   ]
  }
 ],
 "metadata": {
  "kernelspec": {
   "display_name": "Python 3",
   "language": "python",
   "name": "python3"
  },
  "language_info": {
   "codemirror_mode": {
    "name": "ipython",
    "version": 3
   },
   "file_extension": ".py",
   "mimetype": "text/x-python",
   "name": "python",
   "nbconvert_exporter": "python",
   "pygments_lexer": "ipython3",
   "version": "3.10.12"
  }
 },
 "nbformat": 4,
 "nbformat_minor": 5
}
